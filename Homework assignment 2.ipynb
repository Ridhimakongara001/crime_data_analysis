{
 "cells": [
  {
   "cell_type": "code",
   "execution_count": 13,
   "id": "f9ea07e5",
   "metadata": {},
   "outputs": [
    {
     "name": "stdout",
     "output_type": "stream",
     "text": [
      "       DR_NO               Date Rptd                DATE OCC  TIME OCC  AREA  \\\n",
      "0  190326475  03/01/2020 12:00:00 AM  03/01/2020 12:00:00 AM      2130     7   \n",
      "1  200106753  02/09/2020 12:00:00 AM  02/08/2020 12:00:00 AM      1800     1   \n",
      "2  200320258  11/11/2020 12:00:00 AM  11/04/2020 12:00:00 AM      1700     3   \n",
      "3  200907217  05/10/2023 12:00:00 AM  03/10/2020 12:00:00 AM      2037     9   \n",
      "4  220614831  08/18/2022 12:00:00 AM  08/17/2020 12:00:00 AM      1200     6   \n",
      "\n",
      "   AREA NAME  Rpt Dist No  Part 1-2  Crm Cd  \\\n",
      "0   Wilshire          784         1     510   \n",
      "1    Central          182         1     330   \n",
      "2  Southwest          356         1     480   \n",
      "3   Van Nuys          964         1     343   \n",
      "4  Hollywood          666         2     354   \n",
      "\n",
      "                                Crm Cd Desc  ... Status   Status Desc  \\\n",
      "0                          VEHICLE - STOLEN  ...     AA  Adult Arrest   \n",
      "1                     BURGLARY FROM VEHICLE  ...     IC   Invest Cont   \n",
      "2                             BIKE - STOLEN  ...     IC   Invest Cont   \n",
      "3  SHOPLIFTING-GRAND THEFT ($950.01 & OVER)  ...     IC   Invest Cont   \n",
      "4                         THEFT OF IDENTITY  ...     IC   Invest Cont   \n",
      "\n",
      "  Crm Cd 1 Crm Cd 2  Crm Cd 3 Crm Cd 4  \\\n",
      "0    510.0    998.0       NaN      NaN   \n",
      "1    330.0    998.0       NaN      NaN   \n",
      "2    480.0      NaN       NaN      NaN   \n",
      "3    343.0      NaN       NaN      NaN   \n",
      "4    354.0      NaN       NaN      NaN   \n",
      "\n",
      "                                   LOCATION Cross Street      LAT       LON  \n",
      "0   1900 S  LONGWOOD                     AV          NaN  34.0375 -118.3506  \n",
      "1   1000 S  FLOWER                       ST          NaN  34.0444 -118.2628  \n",
      "2   1400 W  37TH                         ST          NaN  34.0210 -118.3002  \n",
      "3  14000    RIVERSIDE                    DR          NaN  34.1576 -118.4387  \n",
      "4                         1900    TRANSIENT          NaN  34.0944 -118.3277  \n",
      "\n",
      "[5 rows x 28 columns]\n"
     ]
    }
   ],
   "source": [
    "import pandas as pd\n",
    "\n",
    "df = pd.read_csv(\"/Users/ridhi/Downloads/Crime_Data_from_2020_to_Present.csv\")\n",
    "\n",
    "# Displaying the first 5 rows.\n",
    "print(df.head())\n"
   ]
  },
  {
   "cell_type": "code",
   "execution_count": 2,
   "id": "5dcad4b0",
   "metadata": {},
   "outputs": [
    {
     "name": "stdout",
     "output_type": "stream",
     "text": [
      "Index(['DR_NO', 'Date Rptd', 'DATE OCC', 'TIME OCC', 'AREA', 'AREA NAME',\n",
      "       'Rpt Dist No', 'Part 1-2', 'Crm Cd', 'Crm Cd Desc', 'Mocodes',\n",
      "       'Vict Age', 'Vict Sex', 'Vict Descent', 'Premis Cd', 'Premis Desc',\n",
      "       'Weapon Used Cd', 'Weapon Desc', 'Status', 'Status Desc', 'Crm Cd 1',\n",
      "       'Crm Cd 2', 'Crm Cd 3', 'Crm Cd 4', 'LOCATION', 'Cross Street', 'LAT',\n",
      "       'LON'],\n",
      "      dtype='object')\n"
     ]
    }
   ],
   "source": [
    "print(df.columns)"
   ]
  },
  {
   "cell_type": "code",
   "execution_count": 3,
   "id": "57349d62",
   "metadata": {},
   "outputs": [
    {
     "name": "stdout",
     "output_type": "stream",
     "text": [
      "(982638, 28)\n"
     ]
    }
   ],
   "source": [
    "print(df.shape)"
   ]
  },
  {
   "cell_type": "code",
   "execution_count": 14,
   "id": "b7252ab7",
   "metadata": {},
   "outputs": [
    {
     "name": "stdout",
     "output_type": "stream",
     "text": [
      "The youngest victim is: -4 years old.\n",
      "The oldest victim is: 120 years old.\n",
      "The median age of victims is: 30.0 years.\n"
     ]
    }
   ],
   "source": [
    "# Minimum, Maximum and Median age of victims\n",
    "min_age = df['Vict Age'].min()\n",
    "\n",
    "max_age = df['Vict Age'].max()\n",
    "\n",
    "median_age = df['Vict Age'].median()\n",
    "\n",
    "print(f\"The youngest victim is: {min_age} years old.\")\n",
    "print(f\"The oldest victim is: {max_age} years old.\")\n",
    "print(f\"The median age of victims is: {median_age} years.\")\n"
   ]
  },
  {
   "cell_type": "code",
   "execution_count": 15,
   "id": "87597ef8",
   "metadata": {},
   "outputs": [
    {
     "name": "stdout",
     "output_type": "stream",
     "text": [
      "    DATE OCC  DayOfWeek\n",
      "0 2020-03-01     Sunday\n",
      "1 2020-02-08   Saturday\n",
      "2 2020-11-04  Wednesday\n",
      "3 2020-03-10    Tuesday\n",
      "4 2020-08-17     Monday\n"
     ]
    }
   ],
   "source": [
    "# Converting 'DATE OCC' to datetime format.\n",
    "df['DATE OCC'] = pd.to_datetime(df['DATE OCC'])\n",
    "\n",
    "# Creating a new column called 'DayOfWeek'\n",
    "df['DayOfWeek'] = df['DATE OCC'].dt.day_name()\n",
    "\n",
    "# Displaying the first few rows.\n",
    "print(df[['DATE OCC', 'DayOfWeek']].head())\n",
    "\n"
   ]
  },
  {
   "cell_type": "code",
   "execution_count": 9,
   "id": "0e2c49f1",
   "metadata": {},
   "outputs": [
    {
     "name": "stdout",
     "output_type": "stream",
     "text": [
      "The data reveals that Friday experiences the most criminal activity.\n"
     ]
    }
   ],
   "source": [
    "# A day in the week that has most crimes.\n",
    "\n",
    "most_crimes = df['DayOfWeek'].value_counts().idxmax()\n",
    "\n",
    "print(f\"The data reveals that {most_common_day} experiences the most criminal activity.\")\n"
   ]
  },
  {
   "cell_type": "code",
   "execution_count": 10,
   "id": "d5cffad0",
   "metadata": {},
   "outputs": [
    {
     "name": "stdout",
     "output_type": "stream",
     "text": [
      "       DR_NO               Date Rptd   DATE OCC  TIME OCC  AREA  AREA NAME  \\\n",
      "3  200907217  05/10/2023 12:00:00 AM 2020-03-10      2037     9   Van Nuys   \n",
      "4  220614831  08/18/2022 12:00:00 AM 2020-08-17      1200     6  Hollywood   \n",
      "5  231808869  04/04/2023 12:00:00 AM 2020-12-01      2300    18  Southeast   \n",
      "6  230110144  04/04/2023 12:00:00 AM 2020-07-03       900     1    Central   \n",
      "7  220314085  07/22/2022 12:00:00 AM 2020-05-12      1110     3  Southwest   \n",
      "\n",
      "   Rpt Dist No  Part 1-2  Crm Cd                               Crm Cd Desc  \\\n",
      "3          964         1     343  SHOPLIFTING-GRAND THEFT ($950.01 & OVER)   \n",
      "4          666         2     354                         THEFT OF IDENTITY   \n",
      "5         1826         2     354                         THEFT OF IDENTITY   \n",
      "6          182         2     354                         THEFT OF IDENTITY   \n",
      "7          303         2     354                         THEFT OF IDENTITY   \n",
      "\n",
      "   ...  Status Desc  Crm Cd 1 Crm Cd 2 Crm Cd 3  Crm Cd 4  \\\n",
      "3  ...  Invest Cont     343.0      NaN      NaN       NaN   \n",
      "4  ...  Invest Cont     354.0      NaN      NaN       NaN   \n",
      "5  ...  Invest Cont     354.0      NaN      NaN       NaN   \n",
      "6  ...  Invest Cont     354.0      NaN      NaN       NaN   \n",
      "7  ...  Invest Cont     354.0      NaN      NaN       NaN   \n",
      "\n",
      "                                   LOCATION  Cross Street      LAT       LON  \\\n",
      "3  14000    RIVERSIDE                    DR           NaN  34.1576 -118.4387   \n",
      "4                         1900    TRANSIENT           NaN  34.0944 -118.3277   \n",
      "5   9900    COMPTON                      AV           NaN  33.9467 -118.2463   \n",
      "6   1100 S  GRAND                        AV           NaN  34.0415 -118.2620   \n",
      "7   2500 S  SYCAMORE                     AV           NaN  34.0335 -118.3537   \n",
      "\n",
      "  DayOfWeek  \n",
      "3   Tuesday  \n",
      "4    Monday  \n",
      "5   Tuesday  \n",
      "6    Friday  \n",
      "7   Tuesday  \n",
      "\n",
      "[5 rows x 29 columns]\n"
     ]
    }
   ],
   "source": [
    "# Filtering the dataset.\n",
    "theft_data = df[df['Crm Cd Desc'].str.contains(\"THEFT\", case=False)]\n",
    "\n",
    "print(theft_data.head())\n",
    "\n",
    "# Export the filtered data.\n",
    "theft_data.to_csv(\"thefts.csv\", index=False)\n"
   ]
  },
  {
   "cell_type": "code",
   "execution_count": 11,
   "id": "4e38b76b",
   "metadata": {},
   "outputs": [
    {
     "name": "stdout",
     "output_type": "stream",
     "text": [
      "(274030, 29)\n"
     ]
    }
   ],
   "source": [
    "print(theft_data.shape)"
   ]
  },
  {
   "cell_type": "code",
   "execution_count": null,
   "id": "cc4641a6",
   "metadata": {},
   "outputs": [],
   "source": []
  }
 ],
 "metadata": {
  "kernelspec": {
   "display_name": "Python 3 (ipykernel)",
   "language": "python",
   "name": "python3"
  },
  "language_info": {
   "codemirror_mode": {
    "name": "ipython",
    "version": 3
   },
   "file_extension": ".py",
   "mimetype": "text/x-python",
   "name": "python",
   "nbconvert_exporter": "python",
   "pygments_lexer": "ipython3",
   "version": "3.9.13"
  }
 },
 "nbformat": 4,
 "nbformat_minor": 5
}
